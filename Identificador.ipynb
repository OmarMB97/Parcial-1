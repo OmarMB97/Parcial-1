{
 "cells": [
  {
   "cell_type": "code",
   "execution_count": 6,
   "metadata": {},
   "outputs": [
    {
     "name": "stdout",
     "output_type": "stream",
     "text": [
      "{'Real': '678.32'}\n",
      "{'Entero': '1234'}\n",
      "{'Identificador': 'hola'}\n",
      "{'Identificador': 'mundo234'}\n",
      "{'Entero': '34'}\n",
      "{'Operador': '+'}\n",
      "{'Operador': '-'}\n"
     ]
    }
   ],
   "source": [
    "Entrada_1 = \"678.32 1234 hola mundo234 34 + - \"\n",
    "Arreglo = []\n",
    "Lista_1 = []\n",
    "Contador = 0;\n",
    "Conteo = 0\n",
    "\n",
    "def Separador(Arreglo, Contador):\n",
    "    for x in range(len(Entrada_1)):\n",
    "        Lista_1.insert(x, Entrada_1[x])\n",
    "        \n",
    "    Space = 0\n",
    "    for x in range(Contador,len(Entrada_1)):\n",
    "        if Entrada_1[x] != ' ':\n",
    "            Arreglo.insert(Space, Entrada_1[x])\n",
    "            Space += 1\n",
    "        else:\n",
    "            y = x + 1\n",
    "            break;      \n",
    "    return y\n",
    "\n",
    "def Identificador(Arreglo):\n",
    "    \n",
    "    #ENTEROS Y REALES\n",
    "    if '1' <= Arreglo[0] <= '9':\n",
    "        for x in range(0, len(Arreglo)):  \n",
    "            if Arreglo[x] == '.':\n",
    "                a = 1;\n",
    "                break;\n",
    "            else:\n",
    "                a = 0\n",
    "                \n",
    "        if a == 1:\n",
    "            Reales = \"\".join(Arreglo)\n",
    "            dic_Real = dict([('Real', Reales)])\n",
    "            print(dic_Real)\n",
    "            a = 0\n",
    "        else:\n",
    "            Entero = \"\".join(Arreglo)\n",
    "            dic_Entero = dict([('Entero', Entero)])\n",
    "            print(dic_Entero)\n",
    "            a = 0\n",
    "    \n",
    "    #ID'S\n",
    "    if 'a' <= Arreglo[0] <= 'z':\n",
    "        for x in range(0, len(Arreglo)):\n",
    "            ID = \"\".join(Arreglo)\n",
    "            dic_ID = dict([('Identificador', ID)])\n",
    "        print(dic_ID)\n",
    "        \n",
    "    #OPERANDOS\n",
    "    if Arreglo[0] == '+' or Arreglo[0] == '-':\n",
    "        Operador = \"\".join(Arreglo)\n",
    "        dic_Operador = dict([('Operador', Operador)])\n",
    "        print(dic_Operador)\n",
    "\n",
    "while Conteo < len(Entrada_1):\n",
    "    Conteo = Separador(Arreglo, Conteo)\n",
    "    Identificador(Arreglo)\n",
    "    del Arreglo[:]"
   ]
  },
  {
   "cell_type": "code",
   "execution_count": null,
   "metadata": {},
   "outputs": [],
   "source": []
  }
 ],
 "metadata": {
  "kernelspec": {
   "display_name": "Python 3",
   "language": "python",
   "name": "python3"
  },
  "language_info": {
   "codemirror_mode": {
    "name": "ipython",
    "version": 3
   },
   "file_extension": ".py",
   "mimetype": "text/x-python",
   "name": "python",
   "nbconvert_exporter": "python",
   "pygments_lexer": "ipython3",
   "version": "3.7.1"
  }
 },
 "nbformat": 4,
 "nbformat_minor": 2
}
